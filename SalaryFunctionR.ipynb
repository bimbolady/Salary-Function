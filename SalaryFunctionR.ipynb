{
 "cells": [
  {
   "cell_type": "code",
   "execution_count": 9,
   "id": "ad2ef92e-4490-4ad0-a4d8-6e9594945452",
   "metadata": {},
   "outputs": [
    {
     "name": "stderr",
     "output_type": "stream",
     "text": [
      "Multiple files in zip: reading 'NATHANIEL FORD.csv'\n",
      "Warning message:\n",
      "\"Missing column names filled in: 'X1' [1]\"Parsed with column specification:\n",
      "cols(\n",
      "  X1 = col_double(),\n",
      "  EmployeeName = col_character(),\n",
      "  JobTitle = col_character(),\n",
      "  BasePay = col_double(),\n",
      "  OvertimePay = col_double(),\n",
      "  OtherPay = col_double(),\n",
      "  Benefits = col_character(),\n",
      "  TotalPay = col_double(),\n",
      "  TotalPayBenefits = col_double(),\n",
      "  Year = col_double()\n",
      ")\n"
     ]
    },
    {
     "data": {
      "text/html": [
       "<table>\n",
       "<thead><tr><th scope=col>X1</th><th scope=col>EmployeeName</th><th scope=col>JobTitle</th><th scope=col>BasePay</th><th scope=col>OvertimePay</th><th scope=col>OtherPay</th><th scope=col>Benefits</th><th scope=col>TotalPay</th><th scope=col>TotalPayBenefits</th><th scope=col>Year</th></tr></thead>\n",
       "<tbody>\n",
       "\t<tr><td>0                                             </td><td>NATHANIEL FORD                                </td><td>GENERAL MANAGER-METROPOLITAN TRANSIT AUTHORITY</td><td>167411.2                                      </td><td>0                                             </td><td>400184.2                                      </td><td>Not Provided                                  </td><td>567595.4                                      </td><td>567595.4                                      </td><td>2011                                          </td></tr>\n",
       "</tbody>\n",
       "</table>\n"
      ],
      "text/latex": [
       "\\begin{tabular}{r|llllllllll}\n",
       " X1 & EmployeeName & JobTitle & BasePay & OvertimePay & OtherPay & Benefits & TotalPay & TotalPayBenefits & Year\\\\\n",
       "\\hline\n",
       "\t 0                                              & NATHANIEL FORD                                 & GENERAL MANAGER-METROPOLITAN TRANSIT AUTHORITY & 167411.2                                       & 0                                              & 400184.2                                       & Not Provided                                   & 567595.4                                       & 567595.4                                       & 2011                                          \\\\\n",
       "\\end{tabular}\n"
      ],
      "text/markdown": [
       "\n",
       "| X1 | EmployeeName | JobTitle | BasePay | OvertimePay | OtherPay | Benefits | TotalPay | TotalPayBenefits | Year |\n",
       "|---|---|---|---|---|---|---|---|---|---|\n",
       "| 0                                              | NATHANIEL FORD                                 | GENERAL MANAGER-METROPOLITAN TRANSIT AUTHORITY | 167411.2                                       | 0                                              | 400184.2                                       | Not Provided                                   | 567595.4                                       | 567595.4                                       | 2011                                           |\n",
       "\n"
      ],
      "text/plain": [
       "  X1 EmployeeName   JobTitle                                       BasePay \n",
       "1 0  NATHANIEL FORD GENERAL MANAGER-METROPOLITAN TRANSIT AUTHORITY 167411.2\n",
       "  OvertimePay OtherPay Benefits     TotalPay TotalPayBenefits Year\n",
       "1 0           400184.2 Not Provided 567595.4 567595.4         2011"
      ]
     },
     "metadata": {},
     "output_type": "display_data"
    }
   ],
   "source": [
    "df <- read_csv(\"C:\\\\Users\\\\Oremoxie\\\\data-analysis-assignment\\\\Employee Profile.zip.zip\")\n",
    "head(df)"
   ]
  },
  {
   "cell_type": "code",
   "execution_count": null,
   "id": "c74bea8d-7dc9-49f5-b547-97c16901e6b2",
   "metadata": {},
   "outputs": [],
   "source": []
  }
 ],
 "metadata": {
  "kernelspec": {
   "display_name": "R",
   "language": "R",
   "name": "ir"
  },
  "language_info": {
   "codemirror_mode": "r",
   "file_extension": ".r",
   "mimetype": "text/x-r-source",
   "name": "R",
   "pygments_lexer": "r",
   "version": "3.6.1"
  }
 },
 "nbformat": 4,
 "nbformat_minor": 5
}
